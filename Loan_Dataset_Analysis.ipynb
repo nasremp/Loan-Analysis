{
  "nbformat": 4,
  "nbformat_minor": 0,
  "metadata": {
    "colab": {
      "name": "Loan Dataset Analysis.ipynb",
      "provenance": [],
      "collapsed_sections": []
    },
    "kernelspec": {
      "name": "python3",
      "display_name": "Python 3"
    },
    "language_info": {
      "name": "python"
    }
  },
  "cells": [
    {
      "cell_type": "code",
      "execution_count": null,
      "metadata": {
        "colab": {
          "base_uri": "https://localhost:8080/",
          "height": 17
        },
        "id": "JoqTi0KNnFqh",
        "outputId": "7344979e-91fc-48e6-ecad-cf99036c2982"
      },
      "outputs": [
        {
          "output_type": "display_data",
          "data": {
            "text/html": [
              "        <script type=\"text/javascript\">\n",
              "        window.PlotlyConfig = {MathJaxConfig: 'local'};\n",
              "        if (window.MathJax) {MathJax.Hub.Config({SVG: {font: \"STIX-Web\"}});}\n",
              "        if (typeof require !== 'undefined') {\n",
              "        require.undef(\"plotly\");\n",
              "        requirejs.config({\n",
              "            paths: {\n",
              "                'plotly': ['https://cdn.plot.ly/plotly-latest.min']\n",
              "            }\n",
              "        });\n",
              "        require(['plotly'], function(Plotly) {\n",
              "            window._Plotly = Plotly;\n",
              "        });\n",
              "        }\n",
              "        </script>\n",
              "        "
            ]
          },
          "metadata": {}
        }
      ],
      "source": [
        "import numpy as np # linear algebra\n",
        "import pandas as pd # data processing, CSV file I/O (e.g. pd.read_csv)\n",
        "import matplotlib.pyplot as plt \n",
        "import seaborn as sns \n",
        "import plotly as py\n",
        "import plotly.graph_objs as go\n",
        "from sklearn.cluster import KMeans\n",
        "import warnings\n",
        "import os\n",
        "warnings.filterwarnings(\"ignore\")\n",
        "py.offline.init_notebook_mode(connected = True)\n",
        "from datetime import datetime\n",
        "import seaborn as sns \n",
        "import matplotlib.pyplot as plt\n"
      ]
    },
    {
      "cell_type": "code",
      "source": [
        "#Global variables\n",
        "DATA_SET_PATH_CSV = \"/content/drive/Shareddrives/CIE 417 Project/Dummy dataset.csv\"\n",
        "DATA_SET_PATH_X = \"/content/drive/Shareddrives/CIE 417 Project/Dummy_dataset.xlsx\""
      ],
      "metadata": {
        "id": "ejoTmoNvIq8Z"
      },
      "execution_count": null,
      "outputs": []
    },
    {
      "cell_type": "code",
      "source": [
        "df = pd.read_csv(DATA_SET_PATH_CSV)\n",
        "df.head()"
      ],
      "metadata": {
        "colab": {
          "base_uri": "https://localhost:8080/",
          "height": 206
        },
        "id": "oehvEk5EndLM",
        "outputId": "8117afbe-c050-41a6-eede-f25b6d2b08a1"
      },
      "execution_count": null,
      "outputs": [
        {
          "output_type": "execute_result",
          "data": {
            "text/html": [
              "\n",
              "  <div id=\"df-3ad60377-a572-408b-94ec-b64a38a1b987\">\n",
              "    <div class=\"colab-df-container\">\n",
              "      <div>\n",
              "<style scoped>\n",
              "    .dataframe tbody tr th:only-of-type {\n",
              "        vertical-align: middle;\n",
              "    }\n",
              "\n",
              "    .dataframe tbody tr th {\n",
              "        vertical-align: top;\n",
              "    }\n",
              "\n",
              "    .dataframe thead th {\n",
              "        text-align: right;\n",
              "    }\n",
              "</style>\n",
              "<table border=\"1\" class=\"dataframe\">\n",
              "  <thead>\n",
              "    <tr style=\"text-align: right;\">\n",
              "      <th></th>\n",
              "      <th>Total O/S</th>\n",
              "      <th>TENOR_@Booking</th>\n",
              "      <th>Loan Term</th>\n",
              "      <th>BOOKING_DATE</th>\n",
              "      <th>MATURITY_DATE</th>\n",
              "      <th>DPD</th>\n",
              "      <th>DOB</th>\n",
              "      <th>AGE</th>\n",
              "      <th>AGE at Maturity</th>\n",
              "      <th>GENDER</th>\n",
              "      <th>Customer Segment</th>\n",
              "    </tr>\n",
              "  </thead>\n",
              "  <tbody>\n",
              "    <tr>\n",
              "      <th>0</th>\n",
              "      <td>178,630</td>\n",
              "      <td>120</td>\n",
              "      <td>10 Years</td>\n",
              "      <td>7/31/2019</td>\n",
              "      <td>4/3/2029</td>\n",
              "      <td>0</td>\n",
              "      <td>6/23/1983</td>\n",
              "      <td>38.5</td>\n",
              "      <td>48.04</td>\n",
              "      <td>MALE</td>\n",
              "      <td>Salaried</td>\n",
              "    </tr>\n",
              "    <tr>\n",
              "      <th>1</th>\n",
              "      <td>376,445</td>\n",
              "      <td>120</td>\n",
              "      <td>10 Years</td>\n",
              "      <td>3/4/2019</td>\n",
              "      <td>7/3/2028</td>\n",
              "      <td>0</td>\n",
              "      <td>9/30/1963</td>\n",
              "      <td>58.2</td>\n",
              "      <td>67.12</td>\n",
              "      <td>MALE</td>\n",
              "      <td>Salaried</td>\n",
              "    </tr>\n",
              "    <tr>\n",
              "      <th>2</th>\n",
              "      <td>253,984</td>\n",
              "      <td>84</td>\n",
              "      <td>7 Years</td>\n",
              "      <td>5/5/2019</td>\n",
              "      <td>7/3/2025</td>\n",
              "      <td>0</td>\n",
              "      <td>2/24/1965</td>\n",
              "      <td>56.8</td>\n",
              "      <td>63.08</td>\n",
              "      <td>MALE</td>\n",
              "      <td>Salaried</td>\n",
              "    </tr>\n",
              "    <tr>\n",
              "      <th>3</th>\n",
              "      <td>779,620</td>\n",
              "      <td>108</td>\n",
              "      <td>9 Years</td>\n",
              "      <td>4/26/2021</td>\n",
              "      <td>4/25/2030</td>\n",
              "      <td>5</td>\n",
              "      <td>12/1/1983</td>\n",
              "      <td>38.0</td>\n",
              "      <td>46.10</td>\n",
              "      <td>MALE</td>\n",
              "      <td>Self Employed &amp; Professional</td>\n",
              "    </tr>\n",
              "    <tr>\n",
              "      <th>4</th>\n",
              "      <td>103,377</td>\n",
              "      <td>60</td>\n",
              "      <td>5 Years</td>\n",
              "      <td>4/27/2021</td>\n",
              "      <td>4/25/2026</td>\n",
              "      <td>0</td>\n",
              "      <td>8/8/1981</td>\n",
              "      <td>40.3</td>\n",
              "      <td>45.02</td>\n",
              "      <td>MALE</td>\n",
              "      <td>Salaried</td>\n",
              "    </tr>\n",
              "  </tbody>\n",
              "</table>\n",
              "</div>\n",
              "      <button class=\"colab-df-convert\" onclick=\"convertToInteractive('df-3ad60377-a572-408b-94ec-b64a38a1b987')\"\n",
              "              title=\"Convert this dataframe to an interactive table.\"\n",
              "              style=\"display:none;\">\n",
              "        \n",
              "  <svg xmlns=\"http://www.w3.org/2000/svg\" height=\"24px\"viewBox=\"0 0 24 24\"\n",
              "       width=\"24px\">\n",
              "    <path d=\"M0 0h24v24H0V0z\" fill=\"none\"/>\n",
              "    <path d=\"M18.56 5.44l.94 2.06.94-2.06 2.06-.94-2.06-.94-.94-2.06-.94 2.06-2.06.94zm-11 1L8.5 8.5l.94-2.06 2.06-.94-2.06-.94L8.5 2.5l-.94 2.06-2.06.94zm10 10l.94 2.06.94-2.06 2.06-.94-2.06-.94-.94-2.06-.94 2.06-2.06.94z\"/><path d=\"M17.41 7.96l-1.37-1.37c-.4-.4-.92-.59-1.43-.59-.52 0-1.04.2-1.43.59L10.3 9.45l-7.72 7.72c-.78.78-.78 2.05 0 2.83L4 21.41c.39.39.9.59 1.41.59.51 0 1.02-.2 1.41-.59l7.78-7.78 2.81-2.81c.8-.78.8-2.07 0-2.86zM5.41 20L4 18.59l7.72-7.72 1.47 1.35L5.41 20z\"/>\n",
              "  </svg>\n",
              "      </button>\n",
              "      \n",
              "  <style>\n",
              "    .colab-df-container {\n",
              "      display:flex;\n",
              "      flex-wrap:wrap;\n",
              "      gap: 12px;\n",
              "    }\n",
              "\n",
              "    .colab-df-convert {\n",
              "      background-color: #E8F0FE;\n",
              "      border: none;\n",
              "      border-radius: 50%;\n",
              "      cursor: pointer;\n",
              "      display: none;\n",
              "      fill: #1967D2;\n",
              "      height: 32px;\n",
              "      padding: 0 0 0 0;\n",
              "      width: 32px;\n",
              "    }\n",
              "\n",
              "    .colab-df-convert:hover {\n",
              "      background-color: #E2EBFA;\n",
              "      box-shadow: 0px 1px 2px rgba(60, 64, 67, 0.3), 0px 1px 3px 1px rgba(60, 64, 67, 0.15);\n",
              "      fill: #174EA6;\n",
              "    }\n",
              "\n",
              "    [theme=dark] .colab-df-convert {\n",
              "      background-color: #3B4455;\n",
              "      fill: #D2E3FC;\n",
              "    }\n",
              "\n",
              "    [theme=dark] .colab-df-convert:hover {\n",
              "      background-color: #434B5C;\n",
              "      box-shadow: 0px 1px 3px 1px rgba(0, 0, 0, 0.15);\n",
              "      filter: drop-shadow(0px 1px 2px rgba(0, 0, 0, 0.3));\n",
              "      fill: #FFFFFF;\n",
              "    }\n",
              "  </style>\n",
              "\n",
              "      <script>\n",
              "        const buttonEl =\n",
              "          document.querySelector('#df-3ad60377-a572-408b-94ec-b64a38a1b987 button.colab-df-convert');\n",
              "        buttonEl.style.display =\n",
              "          google.colab.kernel.accessAllowed ? 'block' : 'none';\n",
              "\n",
              "        async function convertToInteractive(key) {\n",
              "          const element = document.querySelector('#df-3ad60377-a572-408b-94ec-b64a38a1b987');\n",
              "          const dataTable =\n",
              "            await google.colab.kernel.invokeFunction('convertToInteractive',\n",
              "                                                     [key], {});\n",
              "          if (!dataTable) return;\n",
              "\n",
              "          const docLinkHtml = 'Like what you see? Visit the ' +\n",
              "            '<a target=\"_blank\" href=https://colab.research.google.com/notebooks/data_table.ipynb>data table notebook</a>'\n",
              "            + ' to learn more about interactive tables.';\n",
              "          element.innerHTML = '';\n",
              "          dataTable['output_type'] = 'display_data';\n",
              "          await google.colab.output.renderOutput(dataTable, element);\n",
              "          const docLink = document.createElement('div');\n",
              "          docLink.innerHTML = docLinkHtml;\n",
              "          element.appendChild(docLink);\n",
              "        }\n",
              "      </script>\n",
              "    </div>\n",
              "  </div>\n",
              "  "
            ],
            "text/plain": [
              "   Total O/S  TENOR_@Booking  ... GENDER              Customer Segment\n",
              "0   178,630              120  ...   MALE                      Salaried\n",
              "1   376,445              120  ...   MALE                      Salaried\n",
              "2   253,984               84  ...   MALE                      Salaried\n",
              "3   779,620              108  ...   MALE  Self Employed & Professional\n",
              "4   103,377               60  ...   MALE                      Salaried\n",
              "\n",
              "[5 rows x 11 columns]"
            ]
          },
          "metadata": {},
          "execution_count": 201
        }
      ]
    },
    {
      "cell_type": "code",
      "source": [
        "df.dtypes"
      ],
      "metadata": {
        "colab": {
          "base_uri": "https://localhost:8080/"
        },
        "id": "jug2rgEMn1xi",
        "outputId": "e19a180e-353d-4d42-936d-28966112b3a5"
      },
      "execution_count": null,
      "outputs": [
        {
          "output_type": "execute_result",
          "data": {
            "text/plain": [
              "Total O/S           object\n",
              "TENOR_@Booking       int64\n",
              "Loan Term           object\n",
              "BOOKING_DATE        object\n",
              "MATURITY_DATE       object\n",
              " DPD                 int64\n",
              "DOB                 object\n",
              "AGE                 object\n",
              "AGE at Maturity     object\n",
              "GENDER              object\n",
              "Customer Segment    object\n",
              "dtype: object"
            ]
          },
          "metadata": {},
          "execution_count": 202
        }
      ]
    },
    {
      "cell_type": "code",
      "source": [
        "df2 = pd.read_excel(DATA_SET_PATH_X)\n",
        "df2.head()"
      ],
      "metadata": {
        "colab": {
          "base_uri": "https://localhost:8080/",
          "height": 206
        },
        "id": "lUVg7k_VrCMn",
        "outputId": "4d2a877b-ee3b-4322-bbf4-4a7b4024e728"
      },
      "execution_count": null,
      "outputs": [
        {
          "output_type": "execute_result",
          "data": {
            "text/html": [
              "\n",
              "  <div id=\"df-510289b4-1b8a-469a-9dd7-8a1fad285cfa\">\n",
              "    <div class=\"colab-df-container\">\n",
              "      <div>\n",
              "<style scoped>\n",
              "    .dataframe tbody tr th:only-of-type {\n",
              "        vertical-align: middle;\n",
              "    }\n",
              "\n",
              "    .dataframe tbody tr th {\n",
              "        vertical-align: top;\n",
              "    }\n",
              "\n",
              "    .dataframe thead th {\n",
              "        text-align: right;\n",
              "    }\n",
              "</style>\n",
              "<table border=\"1\" class=\"dataframe\">\n",
              "  <thead>\n",
              "    <tr style=\"text-align: right;\">\n",
              "      <th></th>\n",
              "      <th>Total O/S</th>\n",
              "      <th>TENOR_@Booking</th>\n",
              "      <th>Loan Term</th>\n",
              "      <th>BOOKING_DATE</th>\n",
              "      <th>MATURITY_DATE</th>\n",
              "      <th>DPD</th>\n",
              "      <th>DOB</th>\n",
              "      <th>AGE</th>\n",
              "      <th>AGE at Maturity</th>\n",
              "      <th>GENDER</th>\n",
              "      <th>Customer Segment</th>\n",
              "    </tr>\n",
              "  </thead>\n",
              "  <tbody>\n",
              "    <tr>\n",
              "      <th>0</th>\n",
              "      <td>178630.00</td>\n",
              "      <td>120</td>\n",
              "      <td>10 Years</td>\n",
              "      <td>2019-07-31</td>\n",
              "      <td>2029-04-03</td>\n",
              "      <td>0</td>\n",
              "      <td>1983-06-23</td>\n",
              "      <td>38.469863</td>\n",
              "      <td>1948-04-04</td>\n",
              "      <td>MALE</td>\n",
              "      <td>Salaried</td>\n",
              "    </tr>\n",
              "    <tr>\n",
              "      <th>1</th>\n",
              "      <td>376444.57</td>\n",
              "      <td>120</td>\n",
              "      <td>10 Years</td>\n",
              "      <td>2019-03-04</td>\n",
              "      <td>2028-07-03</td>\n",
              "      <td>0</td>\n",
              "      <td>1963-09-30</td>\n",
              "      <td>58.212329</td>\n",
              "      <td>1967-12-27</td>\n",
              "      <td>MALE</td>\n",
              "      <td>Salaried</td>\n",
              "    </tr>\n",
              "    <tr>\n",
              "      <th>2</th>\n",
              "      <td>253984.28</td>\n",
              "      <td>84</td>\n",
              "      <td>7 Years</td>\n",
              "      <td>2019-05-05</td>\n",
              "      <td>2025-07-03</td>\n",
              "      <td>0</td>\n",
              "      <td>1965-02-24</td>\n",
              "      <td>56.806849</td>\n",
              "      <td>1963-08-01</td>\n",
              "      <td>MALE</td>\n",
              "      <td>Salaried</td>\n",
              "    </tr>\n",
              "    <tr>\n",
              "      <th>3</th>\n",
              "      <td>779620.11</td>\n",
              "      <td>108</td>\n",
              "      <td>9 Years</td>\n",
              "      <td>2021-04-26</td>\n",
              "      <td>2030-04-25</td>\n",
              "      <td>5</td>\n",
              "      <td>1983-12-01</td>\n",
              "      <td>38.028767</td>\n",
              "      <td>1946-10-26</td>\n",
              "      <td>MALE</td>\n",
              "      <td>Self Employed &amp; Professional</td>\n",
              "    </tr>\n",
              "    <tr>\n",
              "      <th>4</th>\n",
              "      <td>103377.43</td>\n",
              "      <td>60</td>\n",
              "      <td>5 Years</td>\n",
              "      <td>2021-04-27</td>\n",
              "      <td>2026-04-25</td>\n",
              "      <td>0</td>\n",
              "      <td>1981-08-08</td>\n",
              "      <td>40.343836</td>\n",
              "      <td>1945-02-17</td>\n",
              "      <td>MALE</td>\n",
              "      <td>Salaried</td>\n",
              "    </tr>\n",
              "  </tbody>\n",
              "</table>\n",
              "</div>\n",
              "      <button class=\"colab-df-convert\" onclick=\"convertToInteractive('df-510289b4-1b8a-469a-9dd7-8a1fad285cfa')\"\n",
              "              title=\"Convert this dataframe to an interactive table.\"\n",
              "              style=\"display:none;\">\n",
              "        \n",
              "  <svg xmlns=\"http://www.w3.org/2000/svg\" height=\"24px\"viewBox=\"0 0 24 24\"\n",
              "       width=\"24px\">\n",
              "    <path d=\"M0 0h24v24H0V0z\" fill=\"none\"/>\n",
              "    <path d=\"M18.56 5.44l.94 2.06.94-2.06 2.06-.94-2.06-.94-.94-2.06-.94 2.06-2.06.94zm-11 1L8.5 8.5l.94-2.06 2.06-.94-2.06-.94L8.5 2.5l-.94 2.06-2.06.94zm10 10l.94 2.06.94-2.06 2.06-.94-2.06-.94-.94-2.06-.94 2.06-2.06.94z\"/><path d=\"M17.41 7.96l-1.37-1.37c-.4-.4-.92-.59-1.43-.59-.52 0-1.04.2-1.43.59L10.3 9.45l-7.72 7.72c-.78.78-.78 2.05 0 2.83L4 21.41c.39.39.9.59 1.41.59.51 0 1.02-.2 1.41-.59l7.78-7.78 2.81-2.81c.8-.78.8-2.07 0-2.86zM5.41 20L4 18.59l7.72-7.72 1.47 1.35L5.41 20z\"/>\n",
              "  </svg>\n",
              "      </button>\n",
              "      \n",
              "  <style>\n",
              "    .colab-df-container {\n",
              "      display:flex;\n",
              "      flex-wrap:wrap;\n",
              "      gap: 12px;\n",
              "    }\n",
              "\n",
              "    .colab-df-convert {\n",
              "      background-color: #E8F0FE;\n",
              "      border: none;\n",
              "      border-radius: 50%;\n",
              "      cursor: pointer;\n",
              "      display: none;\n",
              "      fill: #1967D2;\n",
              "      height: 32px;\n",
              "      padding: 0 0 0 0;\n",
              "      width: 32px;\n",
              "    }\n",
              "\n",
              "    .colab-df-convert:hover {\n",
              "      background-color: #E2EBFA;\n",
              "      box-shadow: 0px 1px 2px rgba(60, 64, 67, 0.3), 0px 1px 3px 1px rgba(60, 64, 67, 0.15);\n",
              "      fill: #174EA6;\n",
              "    }\n",
              "\n",
              "    [theme=dark] .colab-df-convert {\n",
              "      background-color: #3B4455;\n",
              "      fill: #D2E3FC;\n",
              "    }\n",
              "\n",
              "    [theme=dark] .colab-df-convert:hover {\n",
              "      background-color: #434B5C;\n",
              "      box-shadow: 0px 1px 3px 1px rgba(0, 0, 0, 0.15);\n",
              "      filter: drop-shadow(0px 1px 2px rgba(0, 0, 0, 0.3));\n",
              "      fill: #FFFFFF;\n",
              "    }\n",
              "  </style>\n",
              "\n",
              "      <script>\n",
              "        const buttonEl =\n",
              "          document.querySelector('#df-510289b4-1b8a-469a-9dd7-8a1fad285cfa button.colab-df-convert');\n",
              "        buttonEl.style.display =\n",
              "          google.colab.kernel.accessAllowed ? 'block' : 'none';\n",
              "\n",
              "        async function convertToInteractive(key) {\n",
              "          const element = document.querySelector('#df-510289b4-1b8a-469a-9dd7-8a1fad285cfa');\n",
              "          const dataTable =\n",
              "            await google.colab.kernel.invokeFunction('convertToInteractive',\n",
              "                                                     [key], {});\n",
              "          if (!dataTable) return;\n",
              "\n",
              "          const docLinkHtml = 'Like what you see? Visit the ' +\n",
              "            '<a target=\"_blank\" href=https://colab.research.google.com/notebooks/data_table.ipynb>data table notebook</a>'\n",
              "            + ' to learn more about interactive tables.';\n",
              "          element.innerHTML = '';\n",
              "          dataTable['output_type'] = 'display_data';\n",
              "          await google.colab.output.renderOutput(dataTable, element);\n",
              "          const docLink = document.createElement('div');\n",
              "          docLink.innerHTML = docLinkHtml;\n",
              "          element.appendChild(docLink);\n",
              "        }\n",
              "      </script>\n",
              "    </div>\n",
              "  </div>\n",
              "  "
            ],
            "text/plain": [
              "   Total O/S  TENOR_@Booking  ... GENDER              Customer Segment\n",
              "0  178630.00             120  ...   MALE                      Salaried\n",
              "1  376444.57             120  ...   MALE                      Salaried\n",
              "2  253984.28              84  ...   MALE                      Salaried\n",
              "3  779620.11             108  ...   MALE  Self Employed & Professional\n",
              "4  103377.43              60  ...   MALE                      Salaried\n",
              "\n",
              "[5 rows x 11 columns]"
            ]
          },
          "metadata": {},
          "execution_count": 203
        }
      ]
    },
    {
      "cell_type": "code",
      "source": [
        "df2.dtypes"
      ],
      "metadata": {
        "colab": {
          "base_uri": "https://localhost:8080/"
        },
        "id": "fQAnAYpCsChn",
        "outputId": "9230cbb7-00a5-4095-f0f6-43cc58a57b9e"
      },
      "execution_count": null,
      "outputs": [
        {
          "output_type": "execute_result",
          "data": {
            "text/plain": [
              "Total O/S                  float64\n",
              "TENOR_@Booking               int64\n",
              "Loan Term                   object\n",
              "BOOKING_DATE        datetime64[ns]\n",
              "MATURITY_DATE       datetime64[ns]\n",
              " DPD                         int64\n",
              "DOB                 datetime64[ns]\n",
              "AGE                        float64\n",
              "AGE at Maturity     datetime64[ns]\n",
              "GENDER                      object\n",
              "Customer Segment            object\n",
              "dtype: object"
            ]
          },
          "metadata": {},
          "execution_count": 204
        }
      ]
    },
    {
      "cell_type": "code",
      "source": [
        "##replacing age at maturaty in xlsx file\n",
        "df2['AGE at Maturity']=df['AGE at Maturity']\n",
        "df2.head()"
      ],
      "metadata": {
        "colab": {
          "base_uri": "https://localhost:8080/",
          "height": 206
        },
        "id": "UbX3oFN4nuCd",
        "outputId": "ad8bbd91-e227-4604-a07d-500d5948bff7"
      },
      "execution_count": null,
      "outputs": [
        {
          "output_type": "execute_result",
          "data": {
            "text/html": [
              "\n",
              "  <div id=\"df-6445df6c-d545-4b3e-8926-29b3c709b878\">\n",
              "    <div class=\"colab-df-container\">\n",
              "      <div>\n",
              "<style scoped>\n",
              "    .dataframe tbody tr th:only-of-type {\n",
              "        vertical-align: middle;\n",
              "    }\n",
              "\n",
              "    .dataframe tbody tr th {\n",
              "        vertical-align: top;\n",
              "    }\n",
              "\n",
              "    .dataframe thead th {\n",
              "        text-align: right;\n",
              "    }\n",
              "</style>\n",
              "<table border=\"1\" class=\"dataframe\">\n",
              "  <thead>\n",
              "    <tr style=\"text-align: right;\">\n",
              "      <th></th>\n",
              "      <th>Total O/S</th>\n",
              "      <th>TENOR_@Booking</th>\n",
              "      <th>Loan Term</th>\n",
              "      <th>BOOKING_DATE</th>\n",
              "      <th>MATURITY_DATE</th>\n",
              "      <th>DPD</th>\n",
              "      <th>DOB</th>\n",
              "      <th>AGE</th>\n",
              "      <th>AGE at Maturity</th>\n",
              "      <th>GENDER</th>\n",
              "      <th>Customer Segment</th>\n",
              "    </tr>\n",
              "  </thead>\n",
              "  <tbody>\n",
              "    <tr>\n",
              "      <th>0</th>\n",
              "      <td>178630.00</td>\n",
              "      <td>120</td>\n",
              "      <td>10 Years</td>\n",
              "      <td>2019-07-31</td>\n",
              "      <td>2029-04-03</td>\n",
              "      <td>0</td>\n",
              "      <td>1983-06-23</td>\n",
              "      <td>38.469863</td>\n",
              "      <td>48.04</td>\n",
              "      <td>MALE</td>\n",
              "      <td>Salaried</td>\n",
              "    </tr>\n",
              "    <tr>\n",
              "      <th>1</th>\n",
              "      <td>376444.57</td>\n",
              "      <td>120</td>\n",
              "      <td>10 Years</td>\n",
              "      <td>2019-03-04</td>\n",
              "      <td>2028-07-03</td>\n",
              "      <td>0</td>\n",
              "      <td>1963-09-30</td>\n",
              "      <td>58.212329</td>\n",
              "      <td>67.12</td>\n",
              "      <td>MALE</td>\n",
              "      <td>Salaried</td>\n",
              "    </tr>\n",
              "    <tr>\n",
              "      <th>2</th>\n",
              "      <td>253984.28</td>\n",
              "      <td>84</td>\n",
              "      <td>7 Years</td>\n",
              "      <td>2019-05-05</td>\n",
              "      <td>2025-07-03</td>\n",
              "      <td>0</td>\n",
              "      <td>1965-02-24</td>\n",
              "      <td>56.806849</td>\n",
              "      <td>63.08</td>\n",
              "      <td>MALE</td>\n",
              "      <td>Salaried</td>\n",
              "    </tr>\n",
              "    <tr>\n",
              "      <th>3</th>\n",
              "      <td>779620.11</td>\n",
              "      <td>108</td>\n",
              "      <td>9 Years</td>\n",
              "      <td>2021-04-26</td>\n",
              "      <td>2030-04-25</td>\n",
              "      <td>5</td>\n",
              "      <td>1983-12-01</td>\n",
              "      <td>38.028767</td>\n",
              "      <td>46.10</td>\n",
              "      <td>MALE</td>\n",
              "      <td>Self Employed &amp; Professional</td>\n",
              "    </tr>\n",
              "    <tr>\n",
              "      <th>4</th>\n",
              "      <td>103377.43</td>\n",
              "      <td>60</td>\n",
              "      <td>5 Years</td>\n",
              "      <td>2021-04-27</td>\n",
              "      <td>2026-04-25</td>\n",
              "      <td>0</td>\n",
              "      <td>1981-08-08</td>\n",
              "      <td>40.343836</td>\n",
              "      <td>45.02</td>\n",
              "      <td>MALE</td>\n",
              "      <td>Salaried</td>\n",
              "    </tr>\n",
              "  </tbody>\n",
              "</table>\n",
              "</div>\n",
              "      <button class=\"colab-df-convert\" onclick=\"convertToInteractive('df-6445df6c-d545-4b3e-8926-29b3c709b878')\"\n",
              "              title=\"Convert this dataframe to an interactive table.\"\n",
              "              style=\"display:none;\">\n",
              "        \n",
              "  <svg xmlns=\"http://www.w3.org/2000/svg\" height=\"24px\"viewBox=\"0 0 24 24\"\n",
              "       width=\"24px\">\n",
              "    <path d=\"M0 0h24v24H0V0z\" fill=\"none\"/>\n",
              "    <path d=\"M18.56 5.44l.94 2.06.94-2.06 2.06-.94-2.06-.94-.94-2.06-.94 2.06-2.06.94zm-11 1L8.5 8.5l.94-2.06 2.06-.94-2.06-.94L8.5 2.5l-.94 2.06-2.06.94zm10 10l.94 2.06.94-2.06 2.06-.94-2.06-.94-.94-2.06-.94 2.06-2.06.94z\"/><path d=\"M17.41 7.96l-1.37-1.37c-.4-.4-.92-.59-1.43-.59-.52 0-1.04.2-1.43.59L10.3 9.45l-7.72 7.72c-.78.78-.78 2.05 0 2.83L4 21.41c.39.39.9.59 1.41.59.51 0 1.02-.2 1.41-.59l7.78-7.78 2.81-2.81c.8-.78.8-2.07 0-2.86zM5.41 20L4 18.59l7.72-7.72 1.47 1.35L5.41 20z\"/>\n",
              "  </svg>\n",
              "      </button>\n",
              "      \n",
              "  <style>\n",
              "    .colab-df-container {\n",
              "      display:flex;\n",
              "      flex-wrap:wrap;\n",
              "      gap: 12px;\n",
              "    }\n",
              "\n",
              "    .colab-df-convert {\n",
              "      background-color: #E8F0FE;\n",
              "      border: none;\n",
              "      border-radius: 50%;\n",
              "      cursor: pointer;\n",
              "      display: none;\n",
              "      fill: #1967D2;\n",
              "      height: 32px;\n",
              "      padding: 0 0 0 0;\n",
              "      width: 32px;\n",
              "    }\n",
              "\n",
              "    .colab-df-convert:hover {\n",
              "      background-color: #E2EBFA;\n",
              "      box-shadow: 0px 1px 2px rgba(60, 64, 67, 0.3), 0px 1px 3px 1px rgba(60, 64, 67, 0.15);\n",
              "      fill: #174EA6;\n",
              "    }\n",
              "\n",
              "    [theme=dark] .colab-df-convert {\n",
              "      background-color: #3B4455;\n",
              "      fill: #D2E3FC;\n",
              "    }\n",
              "\n",
              "    [theme=dark] .colab-df-convert:hover {\n",
              "      background-color: #434B5C;\n",
              "      box-shadow: 0px 1px 3px 1px rgba(0, 0, 0, 0.15);\n",
              "      filter: drop-shadow(0px 1px 2px rgba(0, 0, 0, 0.3));\n",
              "      fill: #FFFFFF;\n",
              "    }\n",
              "  </style>\n",
              "\n",
              "      <script>\n",
              "        const buttonEl =\n",
              "          document.querySelector('#df-6445df6c-d545-4b3e-8926-29b3c709b878 button.colab-df-convert');\n",
              "        buttonEl.style.display =\n",
              "          google.colab.kernel.accessAllowed ? 'block' : 'none';\n",
              "\n",
              "        async function convertToInteractive(key) {\n",
              "          const element = document.querySelector('#df-6445df6c-d545-4b3e-8926-29b3c709b878');\n",
              "          const dataTable =\n",
              "            await google.colab.kernel.invokeFunction('convertToInteractive',\n",
              "                                                     [key], {});\n",
              "          if (!dataTable) return;\n",
              "\n",
              "          const docLinkHtml = 'Like what you see? Visit the ' +\n",
              "            '<a target=\"_blank\" href=https://colab.research.google.com/notebooks/data_table.ipynb>data table notebook</a>'\n",
              "            + ' to learn more about interactive tables.';\n",
              "          element.innerHTML = '';\n",
              "          dataTable['output_type'] = 'display_data';\n",
              "          await google.colab.output.renderOutput(dataTable, element);\n",
              "          const docLink = document.createElement('div');\n",
              "          docLink.innerHTML = docLinkHtml;\n",
              "          element.appendChild(docLink);\n",
              "        }\n",
              "      </script>\n",
              "    </div>\n",
              "  </div>\n",
              "  "
            ],
            "text/plain": [
              "   Total O/S  TENOR_@Booking  ... GENDER              Customer Segment\n",
              "0  178630.00             120  ...   MALE                      Salaried\n",
              "1  376444.57             120  ...   MALE                      Salaried\n",
              "2  253984.28              84  ...   MALE                      Salaried\n",
              "3  779620.11             108  ...   MALE  Self Employed & Professional\n",
              "4  103377.43              60  ...   MALE                      Salaried\n",
              "\n",
              "[5 rows x 11 columns]"
            ]
          },
          "metadata": {},
          "execution_count": 205
        }
      ]
    },
    {
      "cell_type": "code",
      "source": [
        "df2.dtypes"
      ],
      "metadata": {
        "colab": {
          "base_uri": "https://localhost:8080/"
        },
        "id": "QQLrg9G-nyOf",
        "outputId": "fc02cff0-9678-46af-ee2f-04606ce6c12e"
      },
      "execution_count": null,
      "outputs": [
        {
          "output_type": "execute_result",
          "data": {
            "text/plain": [
              "Total O/S                  float64\n",
              "TENOR_@Booking               int64\n",
              "Loan Term                   object\n",
              "BOOKING_DATE        datetime64[ns]\n",
              "MATURITY_DATE       datetime64[ns]\n",
              " DPD                         int64\n",
              "DOB                 datetime64[ns]\n",
              "AGE                        float64\n",
              "AGE at Maturity             object\n",
              "GENDER                      object\n",
              "Customer Segment            object\n",
              "dtype: object"
            ]
          },
          "metadata": {},
          "execution_count": 206
        }
      ]
    },
    {
      "cell_type": "code",
      "source": [
        "df2.isnull().sum()"
      ],
      "metadata": {
        "colab": {
          "base_uri": "https://localhost:8080/"
        },
        "id": "X0sa8T55oYMM",
        "outputId": "6c0a202e-2e81-4068-ea72-0cc868146b12"
      },
      "execution_count": null,
      "outputs": [
        {
          "output_type": "execute_result",
          "data": {
            "text/plain": [
              "Total O/S            0\n",
              "TENOR_@Booking       0\n",
              "Loan Term            0\n",
              "BOOKING_DATE         0\n",
              "MATURITY_DATE        0\n",
              " DPD                 0\n",
              "DOB                 84\n",
              "AGE                 84\n",
              "AGE at Maturity     84\n",
              "GENDER               8\n",
              "Customer Segment    19\n",
              "dtype: int64"
            ]
          },
          "metadata": {},
          "execution_count": 207
        }
      ]
    },
    {
      "cell_type": "code",
      "source": [
        "df2=df2.dropna()"
      ],
      "metadata": {
        "id": "VzGED_fModk2"
      },
      "execution_count": null,
      "outputs": []
    },
    {
      "cell_type": "code",
      "source": [
        "df2.isnull().sum()"
      ],
      "metadata": {
        "colab": {
          "base_uri": "https://localhost:8080/"
        },
        "id": "8YQJzdw5o9ZX",
        "outputId": "792cafee-d964-4075-b69e-f2664b79dd36"
      },
      "execution_count": null,
      "outputs": [
        {
          "output_type": "execute_result",
          "data": {
            "text/plain": [
              "Total O/S           0\n",
              "TENOR_@Booking      0\n",
              "Loan Term           0\n",
              "BOOKING_DATE        0\n",
              "MATURITY_DATE       0\n",
              " DPD                0\n",
              "DOB                 0\n",
              "AGE                 0\n",
              "AGE at Maturity     0\n",
              "GENDER              0\n",
              "Customer Segment    0\n",
              "dtype: int64"
            ]
          },
          "metadata": {},
          "execution_count": 209
        }
      ]
    },
    {
      "cell_type": "code",
      "source": [
        "df2.duplicated().sum()"
      ],
      "metadata": {
        "colab": {
          "base_uri": "https://localhost:8080/"
        },
        "id": "fcAoBgWspEm0",
        "outputId": "2f66f6c6-d652-4af1-f578-afa544ca2cce"
      },
      "execution_count": null,
      "outputs": [
        {
          "output_type": "execute_result",
          "data": {
            "text/plain": [
              "798"
            ]
          },
          "metadata": {},
          "execution_count": 210
        }
      ]
    },
    {
      "cell_type": "code",
      "source": [
        "df2.drop_duplicates(inplace=True)"
      ],
      "metadata": {
        "id": "FPsPtpDqpMWP"
      },
      "execution_count": null,
      "outputs": []
    },
    {
      "cell_type": "code",
      "source": [
        "df2.duplicated().sum()"
      ],
      "metadata": {
        "colab": {
          "base_uri": "https://localhost:8080/"
        },
        "id": "RxPLoFtdpgcp",
        "outputId": "9778e993-7067-4ee2-e163-4c1a7893f0d8"
      },
      "execution_count": null,
      "outputs": [
        {
          "output_type": "execute_result",
          "data": {
            "text/plain": [
              "0"
            ]
          },
          "metadata": {},
          "execution_count": 212
        }
      ]
    },
    {
      "cell_type": "code",
      "source": [
        "df2[\"AGE at Maturity\"]"
      ],
      "metadata": {
        "colab": {
          "base_uri": "https://localhost:8080/"
        },
        "id": "FvGRM3iNuQsk",
        "outputId": "9f21674c-b751-434a-d1f2-ace05ef3dd3e"
      },
      "execution_count": null,
      "outputs": [
        {
          "output_type": "execute_result",
          "data": {
            "text/plain": [
              "0        48.04\n",
              "1        67.12\n",
              "2        63.08\n",
              "3        46.10\n",
              "4        45.02\n",
              "         ...  \n",
              "38680    54.12\n",
              "38681    49.05\n",
              "38682    50.03\n",
              "38683    44.09\n",
              "38684    47.09\n",
              "Name: AGE at Maturity, Length: 37779, dtype: object"
            ]
          },
          "metadata": {},
          "execution_count": 213
        }
      ]
    },
    {
      "cell_type": "code",
      "source": [
        "df2[\"AGE at Maturity\"] = pd.to_numeric(df[\"AGE at Maturity\"],errors='coerce')"
      ],
      "metadata": {
        "id": "j1sSZAzywQdL"
      },
      "execution_count": null,
      "outputs": []
    },
    {
      "cell_type": "code",
      "source": [
        "df2[\"AGE at Maturity\"] "
      ],
      "metadata": {
        "colab": {
          "base_uri": "https://localhost:8080/"
        },
        "id": "rt7O0Os9qFg-",
        "outputId": "63edc957-7dfa-4abe-9bb6-82441d97dbfc"
      },
      "execution_count": null,
      "outputs": [
        {
          "output_type": "execute_result",
          "data": {
            "text/plain": [
              "0        48.04\n",
              "1        67.12\n",
              "2        63.08\n",
              "3        46.10\n",
              "4        45.02\n",
              "         ...  \n",
              "38680    54.12\n",
              "38681    49.05\n",
              "38682    50.03\n",
              "38683    44.09\n",
              "38684    47.09\n",
              "Name: AGE at Maturity, Length: 37779, dtype: float64"
            ]
          },
          "metadata": {},
          "execution_count": 215
        }
      ]
    },
    {
      "cell_type": "code",
      "source": [
        "df2.head()"
      ],
      "metadata": {
        "colab": {
          "base_uri": "https://localhost:8080/",
          "height": 206
        },
        "id": "KDSS-0EcxLV5",
        "outputId": "03d16899-74eb-4b70-e8a1-07330df4c5e2"
      },
      "execution_count": null,
      "outputs": [
        {
          "output_type": "execute_result",
          "data": {
            "text/html": [
              "\n",
              "  <div id=\"df-f9113a91-d5d5-4675-b539-b8ac3164987b\">\n",
              "    <div class=\"colab-df-container\">\n",
              "      <div>\n",
              "<style scoped>\n",
              "    .dataframe tbody tr th:only-of-type {\n",
              "        vertical-align: middle;\n",
              "    }\n",
              "\n",
              "    .dataframe tbody tr th {\n",
              "        vertical-align: top;\n",
              "    }\n",
              "\n",
              "    .dataframe thead th {\n",
              "        text-align: right;\n",
              "    }\n",
              "</style>\n",
              "<table border=\"1\" class=\"dataframe\">\n",
              "  <thead>\n",
              "    <tr style=\"text-align: right;\">\n",
              "      <th></th>\n",
              "      <th>Total O/S</th>\n",
              "      <th>TENOR_@Booking</th>\n",
              "      <th>Loan Term</th>\n",
              "      <th>BOOKING_DATE</th>\n",
              "      <th>MATURITY_DATE</th>\n",
              "      <th>DPD</th>\n",
              "      <th>DOB</th>\n",
              "      <th>AGE</th>\n",
              "      <th>AGE at Maturity</th>\n",
              "      <th>GENDER</th>\n",
              "      <th>Customer Segment</th>\n",
              "    </tr>\n",
              "  </thead>\n",
              "  <tbody>\n",
              "    <tr>\n",
              "      <th>0</th>\n",
              "      <td>178630.00</td>\n",
              "      <td>120</td>\n",
              "      <td>10 Years</td>\n",
              "      <td>2019-07-31</td>\n",
              "      <td>2029-04-03</td>\n",
              "      <td>0</td>\n",
              "      <td>1983-06-23</td>\n",
              "      <td>38.469863</td>\n",
              "      <td>48.04</td>\n",
              "      <td>MALE</td>\n",
              "      <td>Salaried</td>\n",
              "    </tr>\n",
              "    <tr>\n",
              "      <th>1</th>\n",
              "      <td>376444.57</td>\n",
              "      <td>120</td>\n",
              "      <td>10 Years</td>\n",
              "      <td>2019-03-04</td>\n",
              "      <td>2028-07-03</td>\n",
              "      <td>0</td>\n",
              "      <td>1963-09-30</td>\n",
              "      <td>58.212329</td>\n",
              "      <td>67.12</td>\n",
              "      <td>MALE</td>\n",
              "      <td>Salaried</td>\n",
              "    </tr>\n",
              "    <tr>\n",
              "      <th>2</th>\n",
              "      <td>253984.28</td>\n",
              "      <td>84</td>\n",
              "      <td>7 Years</td>\n",
              "      <td>2019-05-05</td>\n",
              "      <td>2025-07-03</td>\n",
              "      <td>0</td>\n",
              "      <td>1965-02-24</td>\n",
              "      <td>56.806849</td>\n",
              "      <td>63.08</td>\n",
              "      <td>MALE</td>\n",
              "      <td>Salaried</td>\n",
              "    </tr>\n",
              "    <tr>\n",
              "      <th>3</th>\n",
              "      <td>779620.11</td>\n",
              "      <td>108</td>\n",
              "      <td>9 Years</td>\n",
              "      <td>2021-04-26</td>\n",
              "      <td>2030-04-25</td>\n",
              "      <td>5</td>\n",
              "      <td>1983-12-01</td>\n",
              "      <td>38.028767</td>\n",
              "      <td>46.10</td>\n",
              "      <td>MALE</td>\n",
              "      <td>Self Employed &amp; Professional</td>\n",
              "    </tr>\n",
              "    <tr>\n",
              "      <th>4</th>\n",
              "      <td>103377.43</td>\n",
              "      <td>60</td>\n",
              "      <td>5 Years</td>\n",
              "      <td>2021-04-27</td>\n",
              "      <td>2026-04-25</td>\n",
              "      <td>0</td>\n",
              "      <td>1981-08-08</td>\n",
              "      <td>40.343836</td>\n",
              "      <td>45.02</td>\n",
              "      <td>MALE</td>\n",
              "      <td>Salaried</td>\n",
              "    </tr>\n",
              "  </tbody>\n",
              "</table>\n",
              "</div>\n",
              "      <button class=\"colab-df-convert\" onclick=\"convertToInteractive('df-f9113a91-d5d5-4675-b539-b8ac3164987b')\"\n",
              "              title=\"Convert this dataframe to an interactive table.\"\n",
              "              style=\"display:none;\">\n",
              "        \n",
              "  <svg xmlns=\"http://www.w3.org/2000/svg\" height=\"24px\"viewBox=\"0 0 24 24\"\n",
              "       width=\"24px\">\n",
              "    <path d=\"M0 0h24v24H0V0z\" fill=\"none\"/>\n",
              "    <path d=\"M18.56 5.44l.94 2.06.94-2.06 2.06-.94-2.06-.94-.94-2.06-.94 2.06-2.06.94zm-11 1L8.5 8.5l.94-2.06 2.06-.94-2.06-.94L8.5 2.5l-.94 2.06-2.06.94zm10 10l.94 2.06.94-2.06 2.06-.94-2.06-.94-.94-2.06-.94 2.06-2.06.94z\"/><path d=\"M17.41 7.96l-1.37-1.37c-.4-.4-.92-.59-1.43-.59-.52 0-1.04.2-1.43.59L10.3 9.45l-7.72 7.72c-.78.78-.78 2.05 0 2.83L4 21.41c.39.39.9.59 1.41.59.51 0 1.02-.2 1.41-.59l7.78-7.78 2.81-2.81c.8-.78.8-2.07 0-2.86zM5.41 20L4 18.59l7.72-7.72 1.47 1.35L5.41 20z\"/>\n",
              "  </svg>\n",
              "      </button>\n",
              "      \n",
              "  <style>\n",
              "    .colab-df-container {\n",
              "      display:flex;\n",
              "      flex-wrap:wrap;\n",
              "      gap: 12px;\n",
              "    }\n",
              "\n",
              "    .colab-df-convert {\n",
              "      background-color: #E8F0FE;\n",
              "      border: none;\n",
              "      border-radius: 50%;\n",
              "      cursor: pointer;\n",
              "      display: none;\n",
              "      fill: #1967D2;\n",
              "      height: 32px;\n",
              "      padding: 0 0 0 0;\n",
              "      width: 32px;\n",
              "    }\n",
              "\n",
              "    .colab-df-convert:hover {\n",
              "      background-color: #E2EBFA;\n",
              "      box-shadow: 0px 1px 2px rgba(60, 64, 67, 0.3), 0px 1px 3px 1px rgba(60, 64, 67, 0.15);\n",
              "      fill: #174EA6;\n",
              "    }\n",
              "\n",
              "    [theme=dark] .colab-df-convert {\n",
              "      background-color: #3B4455;\n",
              "      fill: #D2E3FC;\n",
              "    }\n",
              "\n",
              "    [theme=dark] .colab-df-convert:hover {\n",
              "      background-color: #434B5C;\n",
              "      box-shadow: 0px 1px 3px 1px rgba(0, 0, 0, 0.15);\n",
              "      filter: drop-shadow(0px 1px 2px rgba(0, 0, 0, 0.3));\n",
              "      fill: #FFFFFF;\n",
              "    }\n",
              "  </style>\n",
              "\n",
              "      <script>\n",
              "        const buttonEl =\n",
              "          document.querySelector('#df-f9113a91-d5d5-4675-b539-b8ac3164987b button.colab-df-convert');\n",
              "        buttonEl.style.display =\n",
              "          google.colab.kernel.accessAllowed ? 'block' : 'none';\n",
              "\n",
              "        async function convertToInteractive(key) {\n",
              "          const element = document.querySelector('#df-f9113a91-d5d5-4675-b539-b8ac3164987b');\n",
              "          const dataTable =\n",
              "            await google.colab.kernel.invokeFunction('convertToInteractive',\n",
              "                                                     [key], {});\n",
              "          if (!dataTable) return;\n",
              "\n",
              "          const docLinkHtml = 'Like what you see? Visit the ' +\n",
              "            '<a target=\"_blank\" href=https://colab.research.google.com/notebooks/data_table.ipynb>data table notebook</a>'\n",
              "            + ' to learn more about interactive tables.';\n",
              "          element.innerHTML = '';\n",
              "          dataTable['output_type'] = 'display_data';\n",
              "          await google.colab.output.renderOutput(dataTable, element);\n",
              "          const docLink = document.createElement('div');\n",
              "          docLink.innerHTML = docLinkHtml;\n",
              "          element.appendChild(docLink);\n",
              "        }\n",
              "      </script>\n",
              "    </div>\n",
              "  </div>\n",
              "  "
            ],
            "text/plain": [
              "   Total O/S  TENOR_@Booking  ... GENDER              Customer Segment\n",
              "0  178630.00             120  ...   MALE                      Salaried\n",
              "1  376444.57             120  ...   MALE                      Salaried\n",
              "2  253984.28              84  ...   MALE                      Salaried\n",
              "3  779620.11             108  ...   MALE  Self Employed & Professional\n",
              "4  103377.43              60  ...   MALE                      Salaried\n",
              "\n",
              "[5 rows x 11 columns]"
            ]
          },
          "metadata": {},
          "execution_count": 216
        }
      ]
    },
    {
      "cell_type": "code",
      "source": [
        "df2.dtypes"
      ],
      "metadata": {
        "colab": {
          "base_uri": "https://localhost:8080/"
        },
        "id": "xDMTn8WD5_5L",
        "outputId": "5465292b-fa61-4845-f5d4-8b2a2da3b927"
      },
      "execution_count": null,
      "outputs": [
        {
          "output_type": "execute_result",
          "data": {
            "text/plain": [
              "Total O/S                  float64\n",
              "TENOR_@Booking               int64\n",
              "Loan Term                   object\n",
              "BOOKING_DATE        datetime64[ns]\n",
              "MATURITY_DATE       datetime64[ns]\n",
              " DPD                         int64\n",
              "DOB                 datetime64[ns]\n",
              "AGE                        float64\n",
              "AGE at Maturity            float64\n",
              "GENDER                      object\n",
              "Customer Segment            object\n",
              "dtype: object"
            ]
          },
          "metadata": {},
          "execution_count": 217
        }
      ]
    },
    {
      "cell_type": "code",
      "source": [
        "df2.DOB.values.astype(np.int64)"
      ],
      "metadata": {
        "colab": {
          "base_uri": "https://localhost:8080/"
        },
        "id": "PVPB5pTP6O1o",
        "outputId": "5d1f25dc-c1cd-4c45-fbf0-7965cab35d8b"
      },
      "execution_count": null,
      "outputs": [
        {
          "output_type": "execute_result",
          "data": {
            "text/plain": [
              "array([ 425174400000000000, -197424000000000000, -153100800000000000, ...,\n",
              "        332812800000000000,  473558400000000000,  412041600000000000])"
            ]
          },
          "metadata": {},
          "execution_count": 218
        }
      ]
    },
    {
      "cell_type": "markdown",
      "source": [
        "###Data Visulaizaion###"
      ],
      "metadata": {
        "id": "1dKIQSCGDrLl"
      }
    },
    {
      "cell_type": "code",
      "source": [
        "dict(df2.dtypes)"
      ],
      "metadata": {
        "id": "oqCLBswLEq_h",
        "colab": {
          "base_uri": "https://localhost:8080/"
        },
        "outputId": "d0abcac5-a794-46c0-bfd1-3c96e279804c"
      },
      "execution_count": null,
      "outputs": [
        {
          "output_type": "execute_result",
          "data": {
            "text/plain": [
              "{' DPD': dtype('int64'),\n",
              " 'AGE': dtype('float64'),\n",
              " 'AGE at Maturity': dtype('float64'),\n",
              " 'BOOKING_DATE': dtype('<M8[ns]'),\n",
              " 'Customer Segment': dtype('O'),\n",
              " 'DOB': dtype('<M8[ns]'),\n",
              " 'GENDER': dtype('O'),\n",
              " 'Loan Term': dtype('O'),\n",
              " 'MATURITY_DATE': dtype('<M8[ns]'),\n",
              " 'TENOR_@Booking': dtype('int64'),\n",
              " 'Total O/S': dtype('float64')}"
            ]
          },
          "metadata": {},
          "execution_count": 219
        }
      ]
    },
    {
      "cell_type": "markdown",
      "source": [
        "<h3> Ploting histogram of numeric columns</h3>"
      ],
      "metadata": {
        "id": "NEwBZXYMNF0R"
      }
    },
    {
      "cell_type": "code",
      "source": [
        "import math\n",
        "plt.figure(1 , figsize = (20 , 20))\n",
        "n = 0 \n",
        "temp_df_num = df2.select_dtypes(include=[np.number]) \n",
        "for x in temp_df_num.columns:\n",
        "    n += 1\n",
        "    plt.subplot(math.ceil(len(temp_df_num.columns)/3) , 3 , n)\n",
        "    plt.subplots_adjust(hspace =0.5 , wspace = 0.5)\n",
        "    sns.distplot(temp_df_num[x] , bins = 20)\n",
        "    plt.title('Distplot of {}'.format(x))\n",
        "plt.show()"
      ],
      "metadata": {
        "colab": {
          "base_uri": "https://localhost:8080/",
          "height": 1000
        },
        "id": "2ZCTqaPvDvVY",
        "outputId": "1c36e6d1-def1-482f-999b-7a221b8b45a6"
      },
      "execution_count": null,
      "outputs": [
        {
          "output_type": "display_data",
          "data": {
            "image/png": "[encoded data removed]",
            "text/plain": [
              "<Figure size 1440x1440 with 5 Axes>"
            ]
          },
          "metadata": {
            "needs_background": "light"
          }
        }
      ]
    },
    {
      "cell_type": "markdown",
      "source": [
        "<h3> Gender distribution</h3>"
      ],
      "metadata": {
        "id": "vOUgC35vN0fM"
      }
    },
    {
      "cell_type": "code",
      "source": [
        "di = { \"Male\": \"MALE\",  \"Female\": \"FEMALE\"}\n",
        "df2['GENDER'].replace(di, inplace=True)\n",
        "df2['GENDER'].value_counts()"
      ],
      "metadata": {
        "colab": {
          "base_uri": "https://localhost:8080/"
        },
        "id": "Pr2JXFQDOmdd",
        "outputId": "167487b0-8a64-4d69-c930-2de2b5fc6e00"
      },
      "execution_count": null,
      "outputs": [
        {
          "output_type": "execute_result",
          "data": {
            "text/plain": [
              "MALE      31720\n",
              "FEMALE     6059\n",
              "Name: GENDER, dtype: int64"
            ]
          },
          "metadata": {},
          "execution_count": 221
        }
      ]
    },
    {
      "cell_type": "code",
      "source": [
        "labels = ['Male', 'Female']\n",
        "size = df2['GENDER'].value_counts()\n",
        "colors = ['lightgreen', 'orange']\n",
        "explode = [0, 0.1]\n",
        "\n",
        "plt.rcParams['figure.figsize'] = (9, 9)\n",
        "plt.pie(size, colors = colors, explode = explode, labels = labels, shadow = True, autopct = '%.2f%%')\n",
        "plt.title('Gender', fontsize = 20)\n",
        "plt.axis('off')\n",
        "plt.legend()\n",
        "plt.show()"
      ],
      "metadata": {
        "id": "tmexAaMaEREv",
        "colab": {
          "base_uri": "https://localhost:8080/",
          "height": 541
        },
        "outputId": "b16dc2fd-99ea-4306-fa3c-0a801f859211"
      },
      "execution_count": null,
      "outputs": [
        {
          "output_type": "display_data",
          "data": {
            "image/png": "[encoded data removed]",
            "text/plain": [
              "<Figure size 648x648 with 1 Axes>"
            ]
          },
          "metadata": {}
        }
      ]
    },
    {
      "cell_type": "code",
      "source": [
        "df2['DOB']=df2.DOB.values.astype(np.int64)"
      ],
      "metadata": {
        "id": "XSQ4Y5Pz85Mt"
      },
      "execution_count": null,
      "outputs": []
    },
    {
      "cell_type": "code",
      "source": [
        "df2['BOOKING_DATE']=df2.BOOKING_DATE.values.astype(np.int64)"
      ],
      "metadata": {
        "id": "Qufku6jM9AXz"
      },
      "execution_count": null,
      "outputs": []
    },
    {
      "cell_type": "code",
      "source": [
        "df2['MATURITY_DATE']=df2.MATURITY_DATE.values.astype(np.int64)"
      ],
      "metadata": {
        "id": "JnSeQoX69H2E"
      },
      "execution_count": null,
      "outputs": []
    },
    {
      "cell_type": "code",
      "source": [
        "df2.head()"
      ],
      "metadata": {
        "colab": {
          "base_uri": "https://localhost:8080/",
          "height": 285
        },
        "id": "vLWt_p0B9MnW",
        "outputId": "47fa7c50-c3cc-4e91-dbde-19f658754b8c"
      },
      "execution_count": null,
      "outputs": [
        {
          "output_type": "execute_result",
          "data": {
            "text/html": [
              "\n",
              "  <div id=\"df-efd3c21d-38ea-4360-86c5-7779007bb51d\">\n",
              "    <div class=\"colab-df-container\">\n",
              "      <div>\n",
              "<style scoped>\n",
              "    .dataframe tbody tr th:only-of-type {\n",
              "        vertical-align: middle;\n",
              "    }\n",
              "\n",
              "    .dataframe tbody tr th {\n",
              "        vertical-align: top;\n",
              "    }\n",
              "\n",
              "    .dataframe thead th {\n",
              "        text-align: right;\n",
              "    }\n",
              "</style>\n",
              "<table border=\"1\" class=\"dataframe\">\n",
              "  <thead>\n",
              "    <tr style=\"text-align: right;\">\n",
              "      <th></th>\n",
              "      <th>Total O/S</th>\n",
              "      <th>TENOR_@Booking</th>\n",
              "      <th>Loan Term</th>\n",
              "      <th>BOOKING_DATE</th>\n",
              "      <th>MATURITY_DATE</th>\n",
              "      <th>DPD</th>\n",
              "      <th>DOB</th>\n",
              "      <th>AGE</th>\n",
              "      <th>AGE at Maturity</th>\n",
              "      <th>GENDER</th>\n",
              "      <th>Customer Segment</th>\n",
              "    </tr>\n",
              "  </thead>\n",
              "  <tbody>\n",
              "    <tr>\n",
              "      <th>0</th>\n",
              "      <td>178630.00</td>\n",
              "      <td>120</td>\n",
              "      <td>10 Years</td>\n",
              "      <td>1564531200000000000</td>\n",
              "      <td>1869868800000000000</td>\n",
              "      <td>0</td>\n",
              "      <td>425174400000000000</td>\n",
              "      <td>38.469863</td>\n",
              "      <td>48.04</td>\n",
              "      <td>MALE</td>\n",
              "      <td>Salaried</td>\n",
              "    </tr>\n",
              "    <tr>\n",
              "      <th>1</th>\n",
              "      <td>376444.57</td>\n",
              "      <td>120</td>\n",
              "      <td>10 Years</td>\n",
              "      <td>1551657600000000000</td>\n",
              "      <td>1846195200000000000</td>\n",
              "      <td>0</td>\n",
              "      <td>-197424000000000000</td>\n",
              "      <td>58.212329</td>\n",
              "      <td>67.12</td>\n",
              "      <td>MALE</td>\n",
              "      <td>Salaried</td>\n",
              "    </tr>\n",
              "    <tr>\n",
              "      <th>2</th>\n",
              "      <td>253984.28</td>\n",
              "      <td>84</td>\n",
              "      <td>7 Years</td>\n",
              "      <td>1557014400000000000</td>\n",
              "      <td>1751500800000000000</td>\n",
              "      <td>0</td>\n",
              "      <td>-153100800000000000</td>\n",
              "      <td>56.806849</td>\n",
              "      <td>63.08</td>\n",
              "      <td>MALE</td>\n",
              "      <td>Salaried</td>\n",
              "    </tr>\n",
              "    <tr>\n",
              "      <th>3</th>\n",
              "      <td>779620.11</td>\n",
              "      <td>108</td>\n",
              "      <td>9 Years</td>\n",
              "      <td>1619395200000000000</td>\n",
              "      <td>1903305600000000000</td>\n",
              "      <td>5</td>\n",
              "      <td>439084800000000000</td>\n",
              "      <td>38.028767</td>\n",
              "      <td>46.10</td>\n",
              "      <td>MALE</td>\n",
              "      <td>Self Employed &amp; Professional</td>\n",
              "    </tr>\n",
              "    <tr>\n",
              "      <th>4</th>\n",
              "      <td>103377.43</td>\n",
              "      <td>60</td>\n",
              "      <td>5 Years</td>\n",
              "      <td>1619481600000000000</td>\n",
              "      <td>1777075200000000000</td>\n",
              "      <td>0</td>\n",
              "      <td>366076800000000000</td>\n",
              "      <td>40.343836</td>\n",
              "      <td>45.02</td>\n",
              "      <td>MALE</td>\n",
              "      <td>Salaried</td>\n",
              "    </tr>\n",
              "  </tbody>\n",
              "</table>\n",
              "</div>\n",
              "      <button class=\"colab-df-convert\" onclick=\"convertToInteractive('df-efd3c21d-38ea-4360-86c5-7779007bb51d')\"\n",
              "              title=\"Convert this dataframe to an interactive table.\"\n",
              "              style=\"display:none;\">\n",
              "        \n",
              "  <svg xmlns=\"http://www.w3.org/2000/svg\" height=\"24px\"viewBox=\"0 0 24 24\"\n",
              "       width=\"24px\">\n",
              "    <path d=\"M0 0h24v24H0V0z\" fill=\"none\"/>\n",
              "    <path d=\"M18.56 5.44l.94 2.06.94-2.06 2.06-.94-2.06-.94-.94-2.06-.94 2.06-2.06.94zm-11 1L8.5 8.5l.94-2.06 2.06-.94-2.06-.94L8.5 2.5l-.94 2.06-2.06.94zm10 10l.94 2.06.94-2.06 2.06-.94-2.06-.94-.94-2.06-.94 2.06-2.06.94z\"/><path d=\"M17.41 7.96l-1.37-1.37c-.4-.4-.92-.59-1.43-.59-.52 0-1.04.2-1.43.59L10.3 9.45l-7.72 7.72c-.78.78-.78 2.05 0 2.83L4 21.41c.39.39.9.59 1.41.59.51 0 1.02-.2 1.41-.59l7.78-7.78 2.81-2.81c.8-.78.8-2.07 0-2.86zM5.41 20L4 18.59l7.72-7.72 1.47 1.35L5.41 20z\"/>\n",
              "  </svg>\n",
              "      </button>\n",
              "      \n",
              "  <style>\n",
              "    .colab-df-container {\n",
              "      display:flex;\n",
              "      flex-wrap:wrap;\n",
              "      gap: 12px;\n",
              "    }\n",
              "\n",
              "    .colab-df-convert {\n",
              "      background-color: #E8F0FE;\n",
              "      border: none;\n",
              "      border-radius: 50%;\n",
              "      cursor: pointer;\n",
              "      display: none;\n",
              "      fill: #1967D2;\n",
              "      height: 32px;\n",
              "      padding: 0 0 0 0;\n",
              "      width: 32px;\n",
              "    }\n",
              "\n",
              "    .colab-df-convert:hover {\n",
              "      background-color: #E2EBFA;\n",
              "      box-shadow: 0px 1px 2px rgba(60, 64, 67, 0.3), 0px 1px 3px 1px rgba(60, 64, 67, 0.15);\n",
              "      fill: #174EA6;\n",
              "    }\n",
              "\n",
              "    [theme=dark] .colab-df-convert {\n",
              "      background-color: #3B4455;\n",
              "      fill: #D2E3FC;\n",
              "    }\n",
              "\n",
              "    [theme=dark] .colab-df-convert:hover {\n",
              "      background-color: #434B5C;\n",
              "      box-shadow: 0px 1px 3px 1px rgba(0, 0, 0, 0.15);\n",
              "      filter: drop-shadow(0px 1px 2px rgba(0, 0, 0, 0.3));\n",
              "      fill: #FFFFFF;\n",
              "    }\n",
              "  </style>\n",
              "\n",
              "      <script>\n",
              "        const buttonEl =\n",
              "          document.querySelector('#df-efd3c21d-38ea-4360-86c5-7779007bb51d button.colab-df-convert');\n",
              "        buttonEl.style.display =\n",
              "          google.colab.kernel.accessAllowed ? 'block' : 'none';\n",
              "\n",
              "        async function convertToInteractive(key) {\n",
              "          const element = document.querySelector('#df-efd3c21d-38ea-4360-86c5-7779007bb51d');\n",
              "          const dataTable =\n",
              "            await google.colab.kernel.invokeFunction('convertToInteractive',\n",
              "                                                     [key], {});\n",
              "          if (!dataTable) return;\n",
              "\n",
              "          const docLinkHtml = 'Like what you see? Visit the ' +\n",
              "            '<a target=\"_blank\" href=https://colab.research.google.com/notebooks/data_table.ipynb>data table notebook</a>'\n",
              "            + ' to learn more about interactive tables.';\n",
              "          element.innerHTML = '';\n",
              "          dataTable['output_type'] = 'display_data';\n",
              "          await google.colab.output.renderOutput(dataTable, element);\n",
              "          const docLink = document.createElement('div');\n",
              "          docLink.innerHTML = docLinkHtml;\n",
              "          element.appendChild(docLink);\n",
              "        }\n",
              "      </script>\n",
              "    </div>\n",
              "  </div>\n",
              "  "
            ],
            "text/plain": [
              "   Total O/S  TENOR_@Booking  ... GENDER              Customer Segment\n",
              "0  178630.00             120  ...   MALE                      Salaried\n",
              "1  376444.57             120  ...   MALE                      Salaried\n",
              "2  253984.28              84  ...   MALE                      Salaried\n",
              "3  779620.11             108  ...   MALE  Self Employed & Professional\n",
              "4  103377.43              60  ...   MALE                      Salaried\n",
              "\n",
              "[5 rows x 11 columns]"
            ]
          },
          "metadata": {},
          "execution_count": 226
        }
      ]
    },
    {
      "cell_type": "code",
      "source": [
        ""
      ],
      "metadata": {
        "id": "BqW4FhV59iL4"
      },
      "execution_count": null,
      "outputs": []
    },
    {
      "cell_type": "code",
      "source": [
        "years_map = dict()\n",
        "for i in range(100):\n",
        "  if not i== 0:\n",
        "    years_map[f\"{i} Years\"] = i\n",
        "\n",
        "years_map[\"1 Year\"] = 1"
      ],
      "metadata": {
        "id": "4atyjRS1-Cxe"
      },
      "execution_count": null,
      "outputs": []
    },
    {
      "cell_type": "code",
      "source": [
        "df2['Loan Term']"
      ],
      "metadata": {
        "colab": {
          "base_uri": "https://localhost:8080/"
        },
        "id": "7QzrOdsgQTnN",
        "outputId": "00f95462-6be5-4904-e4a9-22b770ba2a8a"
      },
      "execution_count": null,
      "outputs": [
        {
          "output_type": "execute_result",
          "data": {
            "text/plain": [
              "0        10 Years\n",
              "1        10 Years\n",
              "2         7 Years\n",
              "3         9 Years\n",
              "4         5 Years\n",
              "           ...   \n",
              "38680     9 Years\n",
              "38681     8 Years\n",
              "38682     9 Years\n",
              "38683     8 Years\n",
              "38684     9 Years\n",
              "Name: Loan Term, Length: 37779, dtype: object"
            ]
          },
          "metadata": {},
          "execution_count": 228
        }
      ]
    },
    {
      "cell_type": "code",
      "source": [
        "t = df2['Loan Term'].replace(years_map, inplace=False)"
      ],
      "metadata": {
        "id": "DRj33et9_jDQ"
      },
      "execution_count": null,
      "outputs": []
    },
    {
      "cell_type": "code",
      "source": [
        "pd.to_numeric(t,errors='coerce')"
      ],
      "metadata": {
        "id": "opwI87esAH9X",
        "colab": {
          "base_uri": "https://localhost:8080/"
        },
        "outputId": "965e20da-7240-4ed6-fc4e-c5bccc66be62"
      },
      "execution_count": null,
      "outputs": [
        {
          "output_type": "execute_result",
          "data": {
            "text/plain": [
              "0        10.0\n",
              "1        10.0\n",
              "2         7.0\n",
              "3         9.0\n",
              "4         5.0\n",
              "         ... \n",
              "38680     9.0\n",
              "38681     8.0\n",
              "38682     9.0\n",
              "38683     8.0\n",
              "38684     9.0\n",
              "Name: Loan Term, Length: 37779, dtype: float64"
            ]
          },
          "metadata": {},
          "execution_count": 231
        }
      ]
    },
    {
      "cell_type": "code",
      "source": [
        "df2['Loan Term']"
      ],
      "metadata": {
        "id": "kLUcgJNtBSnM",
        "colab": {
          "base_uri": "https://localhost:8080/"
        },
        "outputId": "91d4e418-f1fb-460f-c87c-c8994db2c451"
      },
      "execution_count": null,
      "outputs": [
        {
          "output_type": "execute_result",
          "data": {
            "text/plain": [
              "0       NaN\n",
              "1       NaN\n",
              "2       NaN\n",
              "3       NaN\n",
              "4       NaN\n",
              "         ..\n",
              "38680   NaN\n",
              "38681   NaN\n",
              "38682   NaN\n",
              "38683   NaN\n",
              "38684   NaN\n",
              "Name: Loan Term, Length: 37779, dtype: float64"
            ]
          },
          "metadata": {},
          "execution_count": 188
        }
      ]
    },
    {
      "cell_type": "code",
      "source": [
        "di = { \"MALE\" :0,  \"FEMALE\":1}\n",
        "df2['GENDER'].replace(di, inplace=True)\n",
        "\n",
        "\n"
      ],
      "metadata": {
        "id": "CgwXxgnHAWMe"
      },
      "execution_count": null,
      "outputs": []
    },
    {
      "cell_type": "code",
      "source": [
        "df2['GENDER']"
      ],
      "metadata": {
        "colab": {
          "base_uri": "https://localhost:8080/"
        },
        "id": "S4NTNnN0A0HP",
        "outputId": "6d828e94-9212-4cb7-d067-245fcc4635d1"
      },
      "execution_count": null,
      "outputs": [
        {
          "output_type": "execute_result",
          "data": {
            "text/plain": [
              "0        0\n",
              "1        0\n",
              "2        0\n",
              "3        0\n",
              "4        0\n",
              "        ..\n",
              "38680    0\n",
              "38681    0\n",
              "38682    0\n",
              "38683    0\n",
              "38684    0\n",
              "Name: GENDER, Length: 37779, dtype: int64"
            ]
          },
          "metadata": {},
          "execution_count": 190
        }
      ]
    },
    {
      "cell_type": "code",
      "source": [
        "sns.countplot(x='Customer Segment', data=df2, palette='Set2')\n",
        "plt.show()"
      ],
      "metadata": {
        "colab": {
          "base_uri": "https://localhost:8080/",
          "height": 551
        },
        "id": "26vGFzBQBTuy",
        "outputId": "cb8234fc-41b0-4645-ec99-9cbbf4c68963"
      },
      "execution_count": null,
      "outputs": [
        {
          "output_type": "display_data",
          "data": {
            "image/png": "[encoded data removed]",
            "text/plain": [
              "<Figure size 648x648 with 1 Axes>"
            ]
          },
          "metadata": {
            "needs_background": "light"
          }
        }
      ]
    },
    {
      "cell_type": "code",
      "source": [
        "di = { \"Salaried\" :0,  \"Self Employed & Professional\":1}\n",
        "df2['Customer Segment'].replace(di, inplace=True)"
      ],
      "metadata": {
        "id": "owRrPro3B26b"
      },
      "execution_count": null,
      "outputs": []
    },
    {
      "cell_type": "code",
      "source": [
        "df2['Customer Segment']"
      ],
      "metadata": {
        "colab": {
          "base_uri": "https://localhost:8080/"
        },
        "id": "svkI4GuJBrKG",
        "outputId": "5aaf224a-b6e1-4966-e2e8-764e4f385933"
      },
      "execution_count": null,
      "outputs": [
        {
          "output_type": "execute_result",
          "data": {
            "text/plain": [
              "0        0\n",
              "1        0\n",
              "2        0\n",
              "3        1\n",
              "4        0\n",
              "        ..\n",
              "38680    0\n",
              "38681    0\n",
              "38682    0\n",
              "38683    0\n",
              "38684    0\n",
              "Name: Customer Segment, Length: 37779, dtype: int64"
            ]
          },
          "metadata": {},
          "execution_count": 193
        }
      ]
    },
    {
      "cell_type": "code",
      "source": [
        "df2.head()"
      ],
      "metadata": {
        "colab": {
          "base_uri": "https://localhost:8080/",
          "height": 250
        },
        "id": "q_cFwwjLCE95",
        "outputId": "c88cfcfd-e34d-4685-e54e-6c607f31e21e"
      },
      "execution_count": null,
      "outputs": [
        {
          "output_type": "execute_result",
          "data": {
            "text/html": [
              "\n",
              "  <div id=\"df-f5641feb-d747-4374-a46b-fcdc35a17a11\">\n",
              "    <div class=\"colab-df-container\">\n",
              "      <div>\n",
              "<style scoped>\n",
              "    .dataframe tbody tr th:only-of-type {\n",
              "        vertical-align: middle;\n",
              "    }\n",
              "\n",
              "    .dataframe tbody tr th {\n",
              "        vertical-align: top;\n",
              "    }\n",
              "\n",
              "    .dataframe thead th {\n",
              "        text-align: right;\n",
              "    }\n",
              "</style>\n",
              "<table border=\"1\" class=\"dataframe\">\n",
              "  <thead>\n",
              "    <tr style=\"text-align: right;\">\n",
              "      <th></th>\n",
              "      <th>Total O/S</th>\n",
              "      <th>TENOR_@Booking</th>\n",
              "      <th>Loan Term</th>\n",
              "      <th>BOOKING_DATE</th>\n",
              "      <th>MATURITY_DATE</th>\n",
              "      <th>DPD</th>\n",
              "      <th>DOB</th>\n",
              "      <th>AGE</th>\n",
              "      <th>AGE at Maturity</th>\n",
              "      <th>GENDER</th>\n",
              "      <th>Customer Segment</th>\n",
              "    </tr>\n",
              "  </thead>\n",
              "  <tbody>\n",
              "    <tr>\n",
              "      <th>0</th>\n",
              "      <td>178630.00</td>\n",
              "      <td>120</td>\n",
              "      <td>NaN</td>\n",
              "      <td>1564531200000000000</td>\n",
              "      <td>1869868800000000000</td>\n",
              "      <td>0</td>\n",
              "      <td>425174400000000000</td>\n",
              "      <td>38.469863</td>\n",
              "      <td>48.04</td>\n",
              "      <td>0</td>\n",
              "      <td>0</td>\n",
              "    </tr>\n",
              "    <tr>\n",
              "      <th>1</th>\n",
              "      <td>376444.57</td>\n",
              "      <td>120</td>\n",
              "      <td>NaN</td>\n",
              "      <td>1551657600000000000</td>\n",
              "      <td>1846195200000000000</td>\n",
              "      <td>0</td>\n",
              "      <td>-197424000000000000</td>\n",
              "      <td>58.212329</td>\n",
              "      <td>67.12</td>\n",
              "      <td>0</td>\n",
              "      <td>0</td>\n",
              "    </tr>\n",
              "    <tr>\n",
              "      <th>2</th>\n",
              "      <td>253984.28</td>\n",
              "      <td>84</td>\n",
              "      <td>NaN</td>\n",
              "      <td>1557014400000000000</td>\n",
              "      <td>1751500800000000000</td>\n",
              "      <td>0</td>\n",
              "      <td>-153100800000000000</td>\n",
              "      <td>56.806849</td>\n",
              "      <td>63.08</td>\n",
              "      <td>0</td>\n",
              "      <td>0</td>\n",
              "    </tr>\n",
              "    <tr>\n",
              "      <th>3</th>\n",
              "      <td>779620.11</td>\n",
              "      <td>108</td>\n",
              "      <td>NaN</td>\n",
              "      <td>1619395200000000000</td>\n",
              "      <td>1903305600000000000</td>\n",
              "      <td>5</td>\n",
              "      <td>439084800000000000</td>\n",
              "      <td>38.028767</td>\n",
              "      <td>46.10</td>\n",
              "      <td>0</td>\n",
              "      <td>1</td>\n",
              "    </tr>\n",
              "    <tr>\n",
              "      <th>4</th>\n",
              "      <td>103377.43</td>\n",
              "      <td>60</td>\n",
              "      <td>NaN</td>\n",
              "      <td>1619481600000000000</td>\n",
              "      <td>1777075200000000000</td>\n",
              "      <td>0</td>\n",
              "      <td>366076800000000000</td>\n",
              "      <td>40.343836</td>\n",
              "      <td>45.02</td>\n",
              "      <td>0</td>\n",
              "      <td>0</td>\n",
              "    </tr>\n",
              "  </tbody>\n",
              "</table>\n",
              "</div>\n",
              "      <button class=\"colab-df-convert\" onclick=\"convertToInteractive('df-f5641feb-d747-4374-a46b-fcdc35a17a11')\"\n",
              "              title=\"Convert this dataframe to an interactive table.\"\n",
              "              style=\"display:none;\">\n",
              "        \n",
              "  <svg xmlns=\"http://www.w3.org/2000/svg\" height=\"24px\"viewBox=\"0 0 24 24\"\n",
              "       width=\"24px\">\n",
              "    <path d=\"M0 0h24v24H0V0z\" fill=\"none\"/>\n",
              "    <path d=\"M18.56 5.44l.94 2.06.94-2.06 2.06-.94-2.06-.94-.94-2.06-.94 2.06-2.06.94zm-11 1L8.5 8.5l.94-2.06 2.06-.94-2.06-.94L8.5 2.5l-.94 2.06-2.06.94zm10 10l.94 2.06.94-2.06 2.06-.94-2.06-.94-.94-2.06-.94 2.06-2.06.94z\"/><path d=\"M17.41 7.96l-1.37-1.37c-.4-.4-.92-.59-1.43-.59-.52 0-1.04.2-1.43.59L10.3 9.45l-7.72 7.72c-.78.78-.78 2.05 0 2.83L4 21.41c.39.39.9.59 1.41.59.51 0 1.02-.2 1.41-.59l7.78-7.78 2.81-2.81c.8-.78.8-2.07 0-2.86zM5.41 20L4 18.59l7.72-7.72 1.47 1.35L5.41 20z\"/>\n",
              "  </svg>\n",
              "      </button>\n",
              "      \n",
              "  <style>\n",
              "    .colab-df-container {\n",
              "      display:flex;\n",
              "      flex-wrap:wrap;\n",
              "      gap: 12px;\n",
              "    }\n",
              "\n",
              "    .colab-df-convert {\n",
              "      background-color: #E8F0FE;\n",
              "      border: none;\n",
              "      border-radius: 50%;\n",
              "      cursor: pointer;\n",
              "      display: none;\n",
              "      fill: #1967D2;\n",
              "      height: 32px;\n",
              "      padding: 0 0 0 0;\n",
              "      width: 32px;\n",
              "    }\n",
              "\n",
              "    .colab-df-convert:hover {\n",
              "      background-color: #E2EBFA;\n",
              "      box-shadow: 0px 1px 2px rgba(60, 64, 67, 0.3), 0px 1px 3px 1px rgba(60, 64, 67, 0.15);\n",
              "      fill: #174EA6;\n",
              "    }\n",
              "\n",
              "    [theme=dark] .colab-df-convert {\n",
              "      background-color: #3B4455;\n",
              "      fill: #D2E3FC;\n",
              "    }\n",
              "\n",
              "    [theme=dark] .colab-df-convert:hover {\n",
              "      background-color: #434B5C;\n",
              "      box-shadow: 0px 1px 3px 1px rgba(0, 0, 0, 0.15);\n",
              "      filter: drop-shadow(0px 1px 2px rgba(0, 0, 0, 0.3));\n",
              "      fill: #FFFFFF;\n",
              "    }\n",
              "  </style>\n",
              "\n",
              "      <script>\n",
              "        const buttonEl =\n",
              "          document.querySelector('#df-f5641feb-d747-4374-a46b-fcdc35a17a11 button.colab-df-convert');\n",
              "        buttonEl.style.display =\n",
              "          google.colab.kernel.accessAllowed ? 'block' : 'none';\n",
              "\n",
              "        async function convertToInteractive(key) {\n",
              "          const element = document.querySelector('#df-f5641feb-d747-4374-a46b-fcdc35a17a11');\n",
              "          const dataTable =\n",
              "            await google.colab.kernel.invokeFunction('convertToInteractive',\n",
              "                                                     [key], {});\n",
              "          if (!dataTable) return;\n",
              "\n",
              "          const docLinkHtml = 'Like what you see? Visit the ' +\n",
              "            '<a target=\"_blank\" href=https://colab.research.google.com/notebooks/data_table.ipynb>data table notebook</a>'\n",
              "            + ' to learn more about interactive tables.';\n",
              "          element.innerHTML = '';\n",
              "          dataTable['output_type'] = 'display_data';\n",
              "          await google.colab.output.renderOutput(dataTable, element);\n",
              "          const docLink = document.createElement('div');\n",
              "          docLink.innerHTML = docLinkHtml;\n",
              "          element.appendChild(docLink);\n",
              "        }\n",
              "      </script>\n",
              "    </div>\n",
              "  </div>\n",
              "  "
            ],
            "text/plain": [
              "   Total O/S  TENOR_@Booking  ...  GENDER  Customer Segment\n",
              "0  178630.00             120  ...       0                 0\n",
              "1  376444.57             120  ...       0                 0\n",
              "2  253984.28              84  ...       0                 0\n",
              "3  779620.11             108  ...       0                 1\n",
              "4  103377.43              60  ...       0                 0\n",
              "\n",
              "[5 rows x 11 columns]"
            ]
          },
          "metadata": {},
          "execution_count": 194
        }
      ]
    },
    {
      "cell_type": "code",
      "source": [
        "df2.info()"
      ],
      "metadata": {
        "colab": {
          "base_uri": "https://localhost:8080/"
        },
        "id": "pedrqh8xCPkG",
        "outputId": "b658f386-a1ec-442e-d73c-84ec121e00b6"
      },
      "execution_count": null,
      "outputs": [
        {
          "output_type": "stream",
          "name": "stdout",
          "text": [
            "<class 'pandas.core.frame.DataFrame'>\n",
            "Int64Index: 37779 entries, 0 to 38684\n",
            "Data columns (total 11 columns):\n",
            " #   Column            Non-Null Count  Dtype  \n",
            "---  ------            --------------  -----  \n",
            " 0   Total O/S         37779 non-null  float64\n",
            " 1   TENOR_@Booking    37779 non-null  int64  \n",
            " 2   Loan Term         0 non-null      float64\n",
            " 3   BOOKING_DATE      37779 non-null  int64  \n",
            " 4   MATURITY_DATE     37779 non-null  int64  \n",
            " 5    DPD              37779 non-null  int64  \n",
            " 6   DOB               37779 non-null  int64  \n",
            " 7   AGE               37779 non-null  float64\n",
            " 8   AGE at Maturity   37735 non-null  float64\n",
            " 9   GENDER            37779 non-null  int64  \n",
            " 10  Customer Segment  37779 non-null  int64  \n",
            "dtypes: float64(4), int64(7)\n",
            "memory usage: 4.7 MB\n"
          ]
        }
      ]
    },
    {
      "cell_type": "code",
      "source": [
        "df2[\"GENDER\"] = pd.to_numeric(df[\"GENDER\"],errors='coerce')"
      ],
      "metadata": {
        "id": "PQw0swJ7CfXF"
      },
      "execution_count": null,
      "outputs": []
    },
    {
      "cell_type": "markdown",
      "source": [
        "###Data Visualization ###"
      ],
      "metadata": {
        "id": "fqv6SCipDGae"
      }
    },
    {
      "cell_type": "code",
      "source": [
        "sns.countplot(x='Customer Segment', data=df2, palette='Set2')\n",
        "plt.show()"
      ],
      "metadata": {
        "colab": {
          "base_uri": "https://localhost:8080/",
          "height": 551
        },
        "id": "h4ohgxdlCjQJ",
        "outputId": "cd2b6485-6650-4ca4-fb17-02953a57b850"
      },
      "execution_count": null,
      "outputs": [
        {
          "output_type": "display_data",
          "data": {
            "image/png": "[encoded data removed]",
            "text/plain": [
              "<Figure size 648x648 with 1 Axes>"
            ]
          },
          "metadata": {
            "needs_background": "light"
          }
        }
      ]
    },
    {
      "cell_type": "code",
      "source": [
        "df2.head()"
      ],
      "metadata": {
        "id": "SI8Se_N_Dekz",
        "colab": {
          "base_uri": "https://localhost:8080/",
          "height": 250
        },
        "outputId": "d3278827-90bf-4169-d4ff-b375cd1bc01b"
      },
      "execution_count": null,
      "outputs": [
        {
          "output_type": "execute_result",
          "data": {
            "text/html": [
              "\n",
              "  <div id=\"df-a77c8eba-5e7a-4f52-b9ad-846350155e9e\">\n",
              "    <div class=\"colab-df-container\">\n",
              "      <div>\n",
              "<style scoped>\n",
              "    .dataframe tbody tr th:only-of-type {\n",
              "        vertical-align: middle;\n",
              "    }\n",
              "\n",
              "    .dataframe tbody tr th {\n",
              "        vertical-align: top;\n",
              "    }\n",
              "\n",
              "    .dataframe thead th {\n",
              "        text-align: right;\n",
              "    }\n",
              "</style>\n",
              "<table border=\"1\" class=\"dataframe\">\n",
              "  <thead>\n",
              "    <tr style=\"text-align: right;\">\n",
              "      <th></th>\n",
              "      <th>Total O/S</th>\n",
              "      <th>TENOR_@Booking</th>\n",
              "      <th>Loan Term</th>\n",
              "      <th>BOOKING_DATE</th>\n",
              "      <th>MATURITY_DATE</th>\n",
              "      <th>DPD</th>\n",
              "      <th>DOB</th>\n",
              "      <th>AGE</th>\n",
              "      <th>AGE at Maturity</th>\n",
              "      <th>GENDER</th>\n",
              "      <th>Customer Segment</th>\n",
              "    </tr>\n",
              "  </thead>\n",
              "  <tbody>\n",
              "    <tr>\n",
              "      <th>0</th>\n",
              "      <td>178630.00</td>\n",
              "      <td>120</td>\n",
              "      <td>NaN</td>\n",
              "      <td>1564531200000000000</td>\n",
              "      <td>1869868800000000000</td>\n",
              "      <td>0</td>\n",
              "      <td>425174400000000000</td>\n",
              "      <td>38.469863</td>\n",
              "      <td>48.04</td>\n",
              "      <td>NaN</td>\n",
              "      <td>0</td>\n",
              "    </tr>\n",
              "    <tr>\n",
              "      <th>1</th>\n",
              "      <td>376444.57</td>\n",
              "      <td>120</td>\n",
              "      <td>NaN</td>\n",
              "      <td>1551657600000000000</td>\n",
              "      <td>1846195200000000000</td>\n",
              "      <td>0</td>\n",
              "      <td>-197424000000000000</td>\n",
              "      <td>58.212329</td>\n",
              "      <td>67.12</td>\n",
              "      <td>NaN</td>\n",
              "      <td>0</td>\n",
              "    </tr>\n",
              "    <tr>\n",
              "      <th>2</th>\n",
              "      <td>253984.28</td>\n",
              "      <td>84</td>\n",
              "      <td>NaN</td>\n",
              "      <td>1557014400000000000</td>\n",
              "      <td>1751500800000000000</td>\n",
              "      <td>0</td>\n",
              "      <td>-153100800000000000</td>\n",
              "      <td>56.806849</td>\n",
              "      <td>63.08</td>\n",
              "      <td>NaN</td>\n",
              "      <td>0</td>\n",
              "    </tr>\n",
              "    <tr>\n",
              "      <th>3</th>\n",
              "      <td>779620.11</td>\n",
              "      <td>108</td>\n",
              "      <td>NaN</td>\n",
              "      <td>1619395200000000000</td>\n",
              "      <td>1903305600000000000</td>\n",
              "      <td>5</td>\n",
              "      <td>439084800000000000</td>\n",
              "      <td>38.028767</td>\n",
              "      <td>46.10</td>\n",
              "      <td>NaN</td>\n",
              "      <td>1</td>\n",
              "    </tr>\n",
              "    <tr>\n",
              "      <th>4</th>\n",
              "      <td>103377.43</td>\n",
              "      <td>60</td>\n",
              "      <td>NaN</td>\n",
              "      <td>1619481600000000000</td>\n",
              "      <td>1777075200000000000</td>\n",
              "      <td>0</td>\n",
              "      <td>366076800000000000</td>\n",
              "      <td>40.343836</td>\n",
              "      <td>45.02</td>\n",
              "      <td>NaN</td>\n",
              "      <td>0</td>\n",
              "    </tr>\n",
              "  </tbody>\n",
              "</table>\n",
              "</div>\n",
              "      <button class=\"colab-df-convert\" onclick=\"convertToInteractive('df-a77c8eba-5e7a-4f52-b9ad-846350155e9e')\"\n",
              "              title=\"Convert this dataframe to an interactive table.\"\n",
              "              style=\"display:none;\">\n",
              "        \n",
              "  <svg xmlns=\"http://www.w3.org/2000/svg\" height=\"24px\"viewBox=\"0 0 24 24\"\n",
              "       width=\"24px\">\n",
              "    <path d=\"M0 0h24v24H0V0z\" fill=\"none\"/>\n",
              "    <path d=\"M18.56 5.44l.94 2.06.94-2.06 2.06-.94-2.06-.94-.94-2.06-.94 2.06-2.06.94zm-11 1L8.5 8.5l.94-2.06 2.06-.94-2.06-.94L8.5 2.5l-.94 2.06-2.06.94zm10 10l.94 2.06.94-2.06 2.06-.94-2.06-.94-.94-2.06-.94 2.06-2.06.94z\"/><path d=\"M17.41 7.96l-1.37-1.37c-.4-.4-.92-.59-1.43-.59-.52 0-1.04.2-1.43.59L10.3 9.45l-7.72 7.72c-.78.78-.78 2.05 0 2.83L4 21.41c.39.39.9.59 1.41.59.51 0 1.02-.2 1.41-.59l7.78-7.78 2.81-2.81c.8-.78.8-2.07 0-2.86zM5.41 20L4 18.59l7.72-7.72 1.47 1.35L5.41 20z\"/>\n",
              "  </svg>\n",
              "      </button>\n",
              "      \n",
              "  <style>\n",
              "    .colab-df-container {\n",
              "      display:flex;\n",
              "      flex-wrap:wrap;\n",
              "      gap: 12px;\n",
              "    }\n",
              "\n",
              "    .colab-df-convert {\n",
              "      background-color: #E8F0FE;\n",
              "      border: none;\n",
              "      border-radius: 50%;\n",
              "      cursor: pointer;\n",
              "      display: none;\n",
              "      fill: #1967D2;\n",
              "      height: 32px;\n",
              "      padding: 0 0 0 0;\n",
              "      width: 32px;\n",
              "    }\n",
              "\n",
              "    .colab-df-convert:hover {\n",
              "      background-color: #E2EBFA;\n",
              "      box-shadow: 0px 1px 2px rgba(60, 64, 67, 0.3), 0px 1px 3px 1px rgba(60, 64, 67, 0.15);\n",
              "      fill: #174EA6;\n",
              "    }\n",
              "\n",
              "    [theme=dark] .colab-df-convert {\n",
              "      background-color: #3B4455;\n",
              "      fill: #D2E3FC;\n",
              "    }\n",
              "\n",
              "    [theme=dark] .colab-df-convert:hover {\n",
              "      background-color: #434B5C;\n",
              "      box-shadow: 0px 1px 3px 1px rgba(0, 0, 0, 0.15);\n",
              "      filter: drop-shadow(0px 1px 2px rgba(0, 0, 0, 0.3));\n",
              "      fill: #FFFFFF;\n",
              "    }\n",
              "  </style>\n",
              "\n",
              "      <script>\n",
              "        const buttonEl =\n",
              "          document.querySelector('#df-a77c8eba-5e7a-4f52-b9ad-846350155e9e button.colab-df-convert');\n",
              "        buttonEl.style.display =\n",
              "          google.colab.kernel.accessAllowed ? 'block' : 'none';\n",
              "\n",
              "        async function convertToInteractive(key) {\n",
              "          const element = document.querySelector('#df-a77c8eba-5e7a-4f52-b9ad-846350155e9e');\n",
              "          const dataTable =\n",
              "            await google.colab.kernel.invokeFunction('convertToInteractive',\n",
              "                                                     [key], {});\n",
              "          if (!dataTable) return;\n",
              "\n",
              "          const docLinkHtml = 'Like what you see? Visit the ' +\n",
              "            '<a target=\"_blank\" href=https://colab.research.google.com/notebooks/data_table.ipynb>data table notebook</a>'\n",
              "            + ' to learn more about interactive tables.';\n",
              "          element.innerHTML = '';\n",
              "          dataTable['output_type'] = 'display_data';\n",
              "          await google.colab.output.renderOutput(dataTable, element);\n",
              "          const docLink = document.createElement('div');\n",
              "          docLink.innerHTML = docLinkHtml;\n",
              "          element.appendChild(docLink);\n",
              "        }\n",
              "      </script>\n",
              "    </div>\n",
              "  </div>\n",
              "  "
            ],
            "text/plain": [
              "   Total O/S  TENOR_@Booking  ...  GENDER  Customer Segment\n",
              "0  178630.00             120  ...     NaN                 0\n",
              "1  376444.57             120  ...     NaN                 0\n",
              "2  253984.28              84  ...     NaN                 0\n",
              "3  779620.11             108  ...     NaN                 1\n",
              "4  103377.43              60  ...     NaN                 0\n",
              "\n",
              "[5 rows x 11 columns]"
            ]
          },
          "metadata": {},
          "execution_count": 198
        }
      ]
    }
  ]
}